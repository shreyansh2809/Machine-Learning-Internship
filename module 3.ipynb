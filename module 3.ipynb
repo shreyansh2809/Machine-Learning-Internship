{
 "cells": [
  {
   "cell_type": "markdown",
   "metadata": {},
   "source": [
    "<h1>Module 3</h1>\n"
   ]
  },
  {
   "cell_type": "code",
   "execution_count": 4,
   "metadata": {},
   "outputs": [],
   "source": [
    "import pandas as pd\n",
    "import numpy as np\n",
    "import matplotlib.pyplot as plt\n",
    "import seaborn as sns\n",
    "%matplotlib inline"
   ]
  },
  {
   "cell_type": "markdown",
   "metadata": {},
   "source": [
    "<h2>3.1 Import gold.csv </h2>"
   ]
  },
  {
   "cell_type": "code",
   "execution_count": 5,
   "metadata": {},
   "outputs": [],
   "source": [
    "df = pd.read_csv('GOLD.csv')"
   ]
  },
  {
   "cell_type": "code",
   "execution_count": 6,
   "metadata": {},
   "outputs": [
    {
     "data": {
      "text/html": [
       "<div>\n",
       "<style scoped>\n",
       "    .dataframe tbody tr th:only-of-type {\n",
       "        vertical-align: middle;\n",
       "    }\n",
       "\n",
       "    .dataframe tbody tr th {\n",
       "        vertical-align: top;\n",
       "    }\n",
       "\n",
       "    .dataframe thead th {\n",
       "        text-align: right;\n",
       "    }\n",
       "</style>\n",
       "<table border=\"1\" class=\"dataframe\">\n",
       "  <thead>\n",
       "    <tr style=\"text-align: right;\">\n",
       "      <th></th>\n",
       "      <th>Date</th>\n",
       "      <th>Price</th>\n",
       "      <th>Open</th>\n",
       "      <th>High</th>\n",
       "      <th>Low</th>\n",
       "      <th>Vol.</th>\n",
       "      <th>Change %</th>\n",
       "      <th>Pred</th>\n",
       "      <th>new</th>\n",
       "    </tr>\n",
       "  </thead>\n",
       "  <tbody>\n",
       "    <tr>\n",
       "      <th>0</th>\n",
       "      <td>May 04, 2017</td>\n",
       "      <td>28060</td>\n",
       "      <td>28400</td>\n",
       "      <td>28482</td>\n",
       "      <td>28025</td>\n",
       "      <td>0.08K</td>\n",
       "      <td>-1.79%</td>\n",
       "      <td>738.0</td>\n",
       "      <td>117.570740</td>\n",
       "    </tr>\n",
       "    <tr>\n",
       "      <th>1</th>\n",
       "      <td>May 05, 2017</td>\n",
       "      <td>28184</td>\n",
       "      <td>28136</td>\n",
       "      <td>28382</td>\n",
       "      <td>28135</td>\n",
       "      <td>0.06K</td>\n",
       "      <td>0.44%</td>\n",
       "      <td>-146.0</td>\n",
       "      <td>295.430176</td>\n",
       "    </tr>\n",
       "    <tr>\n",
       "      <th>2</th>\n",
       "      <td>May 08, 2017</td>\n",
       "      <td>28119</td>\n",
       "      <td>28145</td>\n",
       "      <td>28255</td>\n",
       "      <td>28097</td>\n",
       "      <td>7.85K</td>\n",
       "      <td>-0.23%</td>\n",
       "      <td>30.0</td>\n",
       "      <td>132.123714</td>\n",
       "    </tr>\n",
       "    <tr>\n",
       "      <th>3</th>\n",
       "      <td>May 09, 2017</td>\n",
       "      <td>27981</td>\n",
       "      <td>28125</td>\n",
       "      <td>28192</td>\n",
       "      <td>27947</td>\n",
       "      <td>10.10K</td>\n",
       "      <td>-0.49%</td>\n",
       "      <td>357.0</td>\n",
       "      <td>101.298064</td>\n",
       "    </tr>\n",
       "    <tr>\n",
       "      <th>4</th>\n",
       "      <td>May 10, 2017</td>\n",
       "      <td>28007</td>\n",
       "      <td>28060</td>\n",
       "      <td>28146</td>\n",
       "      <td>27981</td>\n",
       "      <td>9.28K</td>\n",
       "      <td>0.09%</td>\n",
       "      <td>124.0</td>\n",
       "      <td>112.153318</td>\n",
       "    </tr>\n",
       "  </tbody>\n",
       "</table>\n",
       "</div>"
      ],
      "text/plain": [
       "           Date  Price   Open   High    Low    Vol. Change %   Pred  \\\n",
       "0  May 04, 2017  28060  28400  28482  28025   0.08K   -1.79%  738.0   \n",
       "1  May 05, 2017  28184  28136  28382  28135   0.06K    0.44% -146.0   \n",
       "2  May 08, 2017  28119  28145  28255  28097   7.85K   -0.23%   30.0   \n",
       "3  May 09, 2017  27981  28125  28192  27947  10.10K   -0.49%  357.0   \n",
       "4  May 10, 2017  28007  28060  28146  27981   9.28K    0.09%  124.0   \n",
       "\n",
       "          new  \n",
       "0  117.570740  \n",
       "1  295.430176  \n",
       "2  132.123714  \n",
       "3  101.298064  \n",
       "4  112.153318  "
      ]
     },
     "execution_count": 6,
     "metadata": {},
     "output_type": "execute_result"
    }
   ],
   "source": [
    "df.head()"
   ]
  },
  {
   "cell_type": "code",
   "execution_count": 7,
   "metadata": {},
   "outputs": [
    {
     "data": {
      "text/plain": [
       "411"
      ]
     },
     "execution_count": 7,
     "metadata": {},
     "output_type": "execute_result"
    }
   ],
   "source": [
    "df['Pred'].count()"
   ]
  },
  {
   "cell_type": "code",
   "execution_count": 8,
   "metadata": {},
   "outputs": [
    {
     "data": {
      "text/plain": [
       "(512, 9)"
      ]
     },
     "execution_count": 8,
     "metadata": {},
     "output_type": "execute_result"
    }
   ],
   "source": [
    "df.shape"
   ]
  },
  {
   "cell_type": "code",
   "execution_count": 9,
   "metadata": {},
   "outputs": [
    {
     "data": {
      "text/plain": [
       "512"
      ]
     },
     "execution_count": 9,
     "metadata": {},
     "output_type": "execute_result"
    }
   ],
   "source": [
    "df['new'].count()"
   ]
  },
  {
   "cell_type": "code",
   "execution_count": 10,
   "metadata": {},
   "outputs": [
    {
     "data": {
      "text/html": [
       "<div>\n",
       "<style scoped>\n",
       "    .dataframe tbody tr th:only-of-type {\n",
       "        vertical-align: middle;\n",
       "    }\n",
       "\n",
       "    .dataframe tbody tr th {\n",
       "        vertical-align: top;\n",
       "    }\n",
       "\n",
       "    .dataframe thead th {\n",
       "        text-align: right;\n",
       "    }\n",
       "</style>\n",
       "<table border=\"1\" class=\"dataframe\">\n",
       "  <thead>\n",
       "    <tr style=\"text-align: right;\">\n",
       "      <th></th>\n",
       "      <th>Price</th>\n",
       "      <th>Pred</th>\n",
       "      <th>new</th>\n",
       "    </tr>\n",
       "  </thead>\n",
       "  <tbody>\n",
       "    <tr>\n",
       "      <th>Price</th>\n",
       "      <td>1.000000</td>\n",
       "      <td>0.040489</td>\n",
       "      <td>0.164504</td>\n",
       "    </tr>\n",
       "    <tr>\n",
       "      <th>Pred</th>\n",
       "      <td>0.040489</td>\n",
       "      <td>1.000000</td>\n",
       "      <td>-0.006109</td>\n",
       "    </tr>\n",
       "    <tr>\n",
       "      <th>new</th>\n",
       "      <td>0.164504</td>\n",
       "      <td>-0.006109</td>\n",
       "      <td>1.000000</td>\n",
       "    </tr>\n",
       "  </tbody>\n",
       "</table>\n",
       "</div>"
      ],
      "text/plain": [
       "          Price      Pred       new\n",
       "Price  1.000000  0.040489  0.164504\n",
       "Pred   0.040489  1.000000 -0.006109\n",
       "new    0.164504 -0.006109  1.000000"
      ]
     },
     "execution_count": 10,
     "metadata": {},
     "output_type": "execute_result"
    }
   ],
   "source": [
    "df[['Price','Pred','new']].corr()"
   ]
  },
  {
   "cell_type": "code",
   "execution_count": 11,
   "metadata": {},
   "outputs": [],
   "source": [
    "from sklearn.linear_model import LinearRegression"
   ]
  },
  {
   "cell_type": "code",
   "execution_count": 12,
   "metadata": {},
   "outputs": [],
   "source": [
    " l = LinearRegression()"
   ]
  },
  {
   "cell_type": "code",
   "execution_count": 16,
   "metadata": {},
   "outputs": [
    {
     "data": {
      "text/html": [
       "<div>\n",
       "<style scoped>\n",
       "    .dataframe tbody tr th:only-of-type {\n",
       "        vertical-align: middle;\n",
       "    }\n",
       "\n",
       "    .dataframe tbody tr th {\n",
       "        vertical-align: top;\n",
       "    }\n",
       "\n",
       "    .dataframe thead th {\n",
       "        text-align: right;\n",
       "    }\n",
       "</style>\n",
       "<table border=\"1\" class=\"dataframe\">\n",
       "  <thead>\n",
       "    <tr style=\"text-align: right;\">\n",
       "      <th></th>\n",
       "      <th>Price</th>\n",
       "      <th>Open</th>\n",
       "      <th>High</th>\n",
       "      <th>Low</th>\n",
       "      <th>Pred</th>\n",
       "      <th>new</th>\n",
       "    </tr>\n",
       "  </thead>\n",
       "  <tbody>\n",
       "    <tr>\n",
       "      <th>count</th>\n",
       "      <td>512.000000</td>\n",
       "      <td>512.000000</td>\n",
       "      <td>512.000000</td>\n",
       "      <td>512.000000</td>\n",
       "      <td>411.000000</td>\n",
       "      <td>512.000000</td>\n",
       "    </tr>\n",
       "    <tr>\n",
       "      <th>mean</th>\n",
       "      <td>30364.583984</td>\n",
       "      <td>30368.412109</td>\n",
       "      <td>30491.089844</td>\n",
       "      <td>30243.320312</td>\n",
       "      <td>341.712895</td>\n",
       "      <td>245.161859</td>\n",
       "    </tr>\n",
       "    <tr>\n",
       "      <th>std</th>\n",
       "      <td>1284.378623</td>\n",
       "      <td>1296.856656</td>\n",
       "      <td>1307.031684</td>\n",
       "      <td>1271.936410</td>\n",
       "      <td>271.075609</td>\n",
       "      <td>205.788897</td>\n",
       "    </tr>\n",
       "    <tr>\n",
       "      <th>min</th>\n",
       "      <td>27812.000000</td>\n",
       "      <td>27805.000000</td>\n",
       "      <td>27887.000000</td>\n",
       "      <td>27620.000000</td>\n",
       "      <td>-146.000000</td>\n",
       "      <td>11.109814</td>\n",
       "    </tr>\n",
       "    <tr>\n",
       "      <th>25%</th>\n",
       "      <td>29432.500000</td>\n",
       "      <td>29436.750000</td>\n",
       "      <td>29499.750000</td>\n",
       "      <td>29345.750000</td>\n",
       "      <td>156.500000</td>\n",
       "      <td>101.369172</td>\n",
       "    </tr>\n",
       "    <tr>\n",
       "      <th>50%</th>\n",
       "      <td>30427.500000</td>\n",
       "      <td>30399.500000</td>\n",
       "      <td>30545.000000</td>\n",
       "      <td>30286.000000</td>\n",
       "      <td>299.000000</td>\n",
       "      <td>184.537244</td>\n",
       "    </tr>\n",
       "    <tr>\n",
       "      <th>75%</th>\n",
       "      <td>31271.750000</td>\n",
       "      <td>31300.000000</td>\n",
       "      <td>31447.500000</td>\n",
       "      <td>31160.750000</td>\n",
       "      <td>475.000000</td>\n",
       "      <td>320.835031</td>\n",
       "    </tr>\n",
       "    <tr>\n",
       "      <th>max</th>\n",
       "      <td>33753.000000</td>\n",
       "      <td>34247.000000</td>\n",
       "      <td>34400.000000</td>\n",
       "      <td>33680.000000</td>\n",
       "      <td>2210.000000</td>\n",
       "      <td>1407.321485</td>\n",
       "    </tr>\n",
       "  </tbody>\n",
       "</table>\n",
       "</div>"
      ],
      "text/plain": [
       "              Price          Open          High           Low         Pred  \\\n",
       "count    512.000000    512.000000    512.000000    512.000000   411.000000   \n",
       "mean   30364.583984  30368.412109  30491.089844  30243.320312   341.712895   \n",
       "std     1284.378623   1296.856656   1307.031684   1271.936410   271.075609   \n",
       "min    27812.000000  27805.000000  27887.000000  27620.000000  -146.000000   \n",
       "25%    29432.500000  29436.750000  29499.750000  29345.750000   156.500000   \n",
       "50%    30427.500000  30399.500000  30545.000000  30286.000000   299.000000   \n",
       "75%    31271.750000  31300.000000  31447.500000  31160.750000   475.000000   \n",
       "max    33753.000000  34247.000000  34400.000000  33680.000000  2210.000000   \n",
       "\n",
       "               new  \n",
       "count   512.000000  \n",
       "mean    245.161859  \n",
       "std     205.788897  \n",
       "min      11.109814  \n",
       "25%     101.369172  \n",
       "50%     184.537244  \n",
       "75%     320.835031  \n",
       "max    1407.321485  "
      ]
     },
     "execution_count": 16,
     "metadata": {},
     "output_type": "execute_result"
    }
   ],
   "source": [
    "df.describe()"
   ]
  },
  {
   "cell_type": "code",
   "execution_count": 17,
   "metadata": {},
   "outputs": [
    {
     "data": {
      "text/html": [
       "<div>\n",
       "<style scoped>\n",
       "    .dataframe tbody tr th:only-of-type {\n",
       "        vertical-align: middle;\n",
       "    }\n",
       "\n",
       "    .dataframe tbody tr th {\n",
       "        vertical-align: top;\n",
       "    }\n",
       "\n",
       "    .dataframe thead th {\n",
       "        text-align: right;\n",
       "    }\n",
       "</style>\n",
       "<table border=\"1\" class=\"dataframe\">\n",
       "  <thead>\n",
       "    <tr style=\"text-align: right;\">\n",
       "      <th></th>\n",
       "      <th>Date</th>\n",
       "      <th>Price</th>\n",
       "      <th>Open</th>\n",
       "      <th>High</th>\n",
       "      <th>Low</th>\n",
       "      <th>Vol.</th>\n",
       "      <th>Change %</th>\n",
       "      <th>Pred</th>\n",
       "      <th>new</th>\n",
       "    </tr>\n",
       "  </thead>\n",
       "  <tbody>\n",
       "    <tr>\n",
       "      <th>0</th>\n",
       "      <td>May 04, 2017</td>\n",
       "      <td>28060</td>\n",
       "      <td>28400</td>\n",
       "      <td>28482</td>\n",
       "      <td>28025</td>\n",
       "      <td>0.08K</td>\n",
       "      <td>-1.79%</td>\n",
       "      <td>738.0</td>\n",
       "      <td>117.570740</td>\n",
       "    </tr>\n",
       "    <tr>\n",
       "      <th>1</th>\n",
       "      <td>May 05, 2017</td>\n",
       "      <td>28184</td>\n",
       "      <td>28136</td>\n",
       "      <td>28382</td>\n",
       "      <td>28135</td>\n",
       "      <td>0.06K</td>\n",
       "      <td>0.44%</td>\n",
       "      <td>-146.0</td>\n",
       "      <td>295.430176</td>\n",
       "    </tr>\n",
       "    <tr>\n",
       "      <th>2</th>\n",
       "      <td>May 08, 2017</td>\n",
       "      <td>28119</td>\n",
       "      <td>28145</td>\n",
       "      <td>28255</td>\n",
       "      <td>28097</td>\n",
       "      <td>7.85K</td>\n",
       "      <td>-0.23%</td>\n",
       "      <td>30.0</td>\n",
       "      <td>132.123714</td>\n",
       "    </tr>\n",
       "    <tr>\n",
       "      <th>3</th>\n",
       "      <td>May 09, 2017</td>\n",
       "      <td>27981</td>\n",
       "      <td>28125</td>\n",
       "      <td>28192</td>\n",
       "      <td>27947</td>\n",
       "      <td>10.10K</td>\n",
       "      <td>-0.49%</td>\n",
       "      <td>357.0</td>\n",
       "      <td>101.298064</td>\n",
       "    </tr>\n",
       "    <tr>\n",
       "      <th>4</th>\n",
       "      <td>May 10, 2017</td>\n",
       "      <td>28007</td>\n",
       "      <td>28060</td>\n",
       "      <td>28146</td>\n",
       "      <td>27981</td>\n",
       "      <td>9.28K</td>\n",
       "      <td>0.09%</td>\n",
       "      <td>124.0</td>\n",
       "      <td>112.153318</td>\n",
       "    </tr>\n",
       "    <tr>\n",
       "      <th>...</th>\n",
       "      <td>...</td>\n",
       "      <td>...</td>\n",
       "      <td>...</td>\n",
       "      <td>...</td>\n",
       "      <td>...</td>\n",
       "      <td>...</td>\n",
       "      <td>...</td>\n",
       "      <td>...</td>\n",
       "      <td>...</td>\n",
       "    </tr>\n",
       "    <tr>\n",
       "      <th>507</th>\n",
       "      <td>Apr 26, 2019</td>\n",
       "      <td>31868</td>\n",
       "      <td>31851</td>\n",
       "      <td>31934</td>\n",
       "      <td>31705</td>\n",
       "      <td>9.67K</td>\n",
       "      <td>0.08%</td>\n",
       "      <td>NaN</td>\n",
       "      <td>247.177322</td>\n",
       "    </tr>\n",
       "    <tr>\n",
       "      <th>508</th>\n",
       "      <td>Apr 30, 2019</td>\n",
       "      <td>31625</td>\n",
       "      <td>31800</td>\n",
       "      <td>31824</td>\n",
       "      <td>31597</td>\n",
       "      <td>6.44K</td>\n",
       "      <td>-0.76%</td>\n",
       "      <td>NaN</td>\n",
       "      <td>52.201158</td>\n",
       "    </tr>\n",
       "    <tr>\n",
       "      <th>509</th>\n",
       "      <td>May 01, 2019</td>\n",
       "      <td>31563</td>\n",
       "      <td>31604</td>\n",
       "      <td>31657</td>\n",
       "      <td>31503</td>\n",
       "      <td>1.55K</td>\n",
       "      <td>-0.20%</td>\n",
       "      <td>NaN</td>\n",
       "      <td>113.293305</td>\n",
       "    </tr>\n",
       "    <tr>\n",
       "      <th>510</th>\n",
       "      <td>May 02, 2019</td>\n",
       "      <td>31203</td>\n",
       "      <td>31420</td>\n",
       "      <td>31425</td>\n",
       "      <td>31160</td>\n",
       "      <td>0.48K</td>\n",
       "      <td>-1.14%</td>\n",
       "      <td>NaN</td>\n",
       "      <td>48.365693</td>\n",
       "    </tr>\n",
       "    <tr>\n",
       "      <th>511</th>\n",
       "      <td>May 03, 2019</td>\n",
       "      <td>31341</td>\n",
       "      <td>31250</td>\n",
       "      <td>31500</td>\n",
       "      <td>31163</td>\n",
       "      <td>0.08K</td>\n",
       "      <td>0.44%</td>\n",
       "      <td>NaN</td>\n",
       "      <td>429.924911</td>\n",
       "    </tr>\n",
       "  </tbody>\n",
       "</table>\n",
       "<p>512 rows × 9 columns</p>\n",
       "</div>"
      ],
      "text/plain": [
       "             Date  Price   Open   High    Low    Vol. Change %   Pred  \\\n",
       "0    May 04, 2017  28060  28400  28482  28025   0.08K   -1.79%  738.0   \n",
       "1    May 05, 2017  28184  28136  28382  28135   0.06K    0.44% -146.0   \n",
       "2    May 08, 2017  28119  28145  28255  28097   7.85K   -0.23%   30.0   \n",
       "3    May 09, 2017  27981  28125  28192  27947  10.10K   -0.49%  357.0   \n",
       "4    May 10, 2017  28007  28060  28146  27981   9.28K    0.09%  124.0   \n",
       "..            ...    ...    ...    ...    ...     ...      ...    ...   \n",
       "507  Apr 26, 2019  31868  31851  31934  31705   9.67K    0.08%    NaN   \n",
       "508  Apr 30, 2019  31625  31800  31824  31597   6.44K   -0.76%    NaN   \n",
       "509  May 01, 2019  31563  31604  31657  31503   1.55K   -0.20%    NaN   \n",
       "510  May 02, 2019  31203  31420  31425  31160   0.48K   -1.14%    NaN   \n",
       "511  May 03, 2019  31341  31250  31500  31163   0.08K    0.44%    NaN   \n",
       "\n",
       "            new  \n",
       "0    117.570740  \n",
       "1    295.430176  \n",
       "2    132.123714  \n",
       "3    101.298064  \n",
       "4    112.153318  \n",
       "..          ...  \n",
       "507  247.177322  \n",
       "508   52.201158  \n",
       "509  113.293305  \n",
       "510   48.365693  \n",
       "511  429.924911  \n",
       "\n",
       "[512 rows x 9 columns]"
      ]
     },
     "execution_count": 17,
     "metadata": {},
     "output_type": "execute_result"
    }
   ],
   "source": [
    "df"
   ]
  },
  {
   "cell_type": "code",
   "execution_count": 24,
   "metadata": {},
   "outputs": [
    {
     "data": {
      "text/html": [
       "<div>\n",
       "<style scoped>\n",
       "    .dataframe tbody tr th:only-of-type {\n",
       "        vertical-align: middle;\n",
       "    }\n",
       "\n",
       "    .dataframe tbody tr th {\n",
       "        vertical-align: top;\n",
       "    }\n",
       "\n",
       "    .dataframe thead th {\n",
       "        text-align: right;\n",
       "    }\n",
       "</style>\n",
       "<table border=\"1\" class=\"dataframe\">\n",
       "  <thead>\n",
       "    <tr style=\"text-align: right;\">\n",
       "      <th></th>\n",
       "      <th>Date</th>\n",
       "      <th>Price</th>\n",
       "      <th>Open</th>\n",
       "      <th>High</th>\n",
       "      <th>Low</th>\n",
       "      <th>Vol.</th>\n",
       "      <th>Change %</th>\n",
       "      <th>Pred</th>\n",
       "      <th>new</th>\n",
       "    </tr>\n",
       "  </thead>\n",
       "  <tbody>\n",
       "    <tr>\n",
       "      <th>411</th>\n",
       "      <td>Dec 11, 2018</td>\n",
       "      <td>31812</td>\n",
       "      <td>31850</td>\n",
       "      <td>31850</td>\n",
       "      <td>31618</td>\n",
       "      <td>10.53K</td>\n",
       "      <td>-0.26%</td>\n",
       "      <td>NaN</td>\n",
       "      <td>195.423493</td>\n",
       "    </tr>\n",
       "    <tr>\n",
       "      <th>412</th>\n",
       "      <td>Dec 12, 2018</td>\n",
       "      <td>31626</td>\n",
       "      <td>31749</td>\n",
       "      <td>31749</td>\n",
       "      <td>31582</td>\n",
       "      <td>7.57K</td>\n",
       "      <td>-0.58%</td>\n",
       "      <td>NaN</td>\n",
       "      <td>44.232664</td>\n",
       "    </tr>\n",
       "    <tr>\n",
       "      <th>413</th>\n",
       "      <td>Dec 13, 2018</td>\n",
       "      <td>31414</td>\n",
       "      <td>31550</td>\n",
       "      <td>31600</td>\n",
       "      <td>31337</td>\n",
       "      <td>8.43K</td>\n",
       "      <td>-0.67%</td>\n",
       "      <td>NaN</td>\n",
       "      <td>127.646233</td>\n",
       "    </tr>\n",
       "    <tr>\n",
       "      <th>414</th>\n",
       "      <td>Dec 14, 2018</td>\n",
       "      <td>31437</td>\n",
       "      <td>31440</td>\n",
       "      <td>31514</td>\n",
       "      <td>31384</td>\n",
       "      <td>6.75K</td>\n",
       "      <td>0.07%</td>\n",
       "      <td>NaN</td>\n",
       "      <td>127.219539</td>\n",
       "    </tr>\n",
       "    <tr>\n",
       "      <th>415</th>\n",
       "      <td>Dec 17, 2018</td>\n",
       "      <td>31501</td>\n",
       "      <td>31369</td>\n",
       "      <td>31530</td>\n",
       "      <td>31291</td>\n",
       "      <td>5.97K</td>\n",
       "      <td>0.20%</td>\n",
       "      <td>NaN</td>\n",
       "      <td>372.603976</td>\n",
       "    </tr>\n",
       "    <tr>\n",
       "      <th>...</th>\n",
       "      <td>...</td>\n",
       "      <td>...</td>\n",
       "      <td>...</td>\n",
       "      <td>...</td>\n",
       "      <td>...</td>\n",
       "      <td>...</td>\n",
       "      <td>...</td>\n",
       "      <td>...</td>\n",
       "      <td>...</td>\n",
       "    </tr>\n",
       "    <tr>\n",
       "      <th>507</th>\n",
       "      <td>Apr 26, 2019</td>\n",
       "      <td>31868</td>\n",
       "      <td>31851</td>\n",
       "      <td>31934</td>\n",
       "      <td>31705</td>\n",
       "      <td>9.67K</td>\n",
       "      <td>0.08%</td>\n",
       "      <td>NaN</td>\n",
       "      <td>247.177322</td>\n",
       "    </tr>\n",
       "    <tr>\n",
       "      <th>508</th>\n",
       "      <td>Apr 30, 2019</td>\n",
       "      <td>31625</td>\n",
       "      <td>31800</td>\n",
       "      <td>31824</td>\n",
       "      <td>31597</td>\n",
       "      <td>6.44K</td>\n",
       "      <td>-0.76%</td>\n",
       "      <td>NaN</td>\n",
       "      <td>52.201158</td>\n",
       "    </tr>\n",
       "    <tr>\n",
       "      <th>509</th>\n",
       "      <td>May 01, 2019</td>\n",
       "      <td>31563</td>\n",
       "      <td>31604</td>\n",
       "      <td>31657</td>\n",
       "      <td>31503</td>\n",
       "      <td>1.55K</td>\n",
       "      <td>-0.20%</td>\n",
       "      <td>NaN</td>\n",
       "      <td>113.293305</td>\n",
       "    </tr>\n",
       "    <tr>\n",
       "      <th>510</th>\n",
       "      <td>May 02, 2019</td>\n",
       "      <td>31203</td>\n",
       "      <td>31420</td>\n",
       "      <td>31425</td>\n",
       "      <td>31160</td>\n",
       "      <td>0.48K</td>\n",
       "      <td>-1.14%</td>\n",
       "      <td>NaN</td>\n",
       "      <td>48.365693</td>\n",
       "    </tr>\n",
       "    <tr>\n",
       "      <th>511</th>\n",
       "      <td>May 03, 2019</td>\n",
       "      <td>31341</td>\n",
       "      <td>31250</td>\n",
       "      <td>31500</td>\n",
       "      <td>31163</td>\n",
       "      <td>0.08K</td>\n",
       "      <td>0.44%</td>\n",
       "      <td>NaN</td>\n",
       "      <td>429.924911</td>\n",
       "    </tr>\n",
       "  </tbody>\n",
       "</table>\n",
       "<p>101 rows × 9 columns</p>\n",
       "</div>"
      ],
      "text/plain": [
       "             Date  Price   Open   High    Low    Vol. Change %  Pred  \\\n",
       "411  Dec 11, 2018  31812  31850  31850  31618  10.53K   -0.26%   NaN   \n",
       "412  Dec 12, 2018  31626  31749  31749  31582   7.57K   -0.58%   NaN   \n",
       "413  Dec 13, 2018  31414  31550  31600  31337   8.43K   -0.67%   NaN   \n",
       "414  Dec 14, 2018  31437  31440  31514  31384   6.75K    0.07%   NaN   \n",
       "415  Dec 17, 2018  31501  31369  31530  31291   5.97K    0.20%   NaN   \n",
       "..            ...    ...    ...    ...    ...     ...      ...   ...   \n",
       "507  Apr 26, 2019  31868  31851  31934  31705   9.67K    0.08%   NaN   \n",
       "508  Apr 30, 2019  31625  31800  31824  31597   6.44K   -0.76%   NaN   \n",
       "509  May 01, 2019  31563  31604  31657  31503   1.55K   -0.20%   NaN   \n",
       "510  May 02, 2019  31203  31420  31425  31160   0.48K   -1.14%   NaN   \n",
       "511  May 03, 2019  31341  31250  31500  31163   0.08K    0.44%   NaN   \n",
       "\n",
       "            new  \n",
       "411  195.423493  \n",
       "412   44.232664  \n",
       "413  127.646233  \n",
       "414  127.219539  \n",
       "415  372.603976  \n",
       "..          ...  \n",
       "507  247.177322  \n",
       "508   52.201158  \n",
       "509  113.293305  \n",
       "510   48.365693  \n",
       "511  429.924911  \n",
       "\n",
       "[101 rows x 9 columns]"
      ]
     },
     "execution_count": 24,
     "metadata": {},
     "output_type": "execute_result"
    }
   ],
   "source": [
    "df[df['Pred'].isnull()]"
   ]
  },
  {
   "cell_type": "code",
   "execution_count": 25,
   "metadata": {},
   "outputs": [
    {
     "data": {
      "text/plain": [
       "<matplotlib.axes._subplots.AxesSubplot at 0x2149e3430b8>"
      ]
     },
     "execution_count": 25,
     "metadata": {},
     "output_type": "execute_result"
    },
    {
     "data": {
      "image/png": "[encoded data removed]",
      "text/plain": [
       "<Figure size 432x288 with 1 Axes>"
      ]
     },
     "metadata": {
      "needs_background": "light"
     },
     "output_type": "display_data"
    }
   ],
   "source": [
    "sns.regplot(x='Pred',y='Price',data=df)"
   ]
  },
  {
   "cell_type": "code",
   "execution_count": 26,
   "metadata": {},
   "outputs": [
    {
     "data": {
      "text/plain": [
       "<matplotlib.axes._subplots.AxesSubplot at 0x2149ea836a0>"
      ]
     },
     "execution_count": 26,
     "metadata": {},
     "output_type": "execute_result"
    },
    {
     "data": {
      "image/png": "[encoded data removed]",
      "text/plain": [
       "<Figure size 432x288 with 1 Axes>"
      ]
     },
     "metadata": {
      "needs_background": "light"
     },
     "output_type": "display_data"
    }
   ],
   "source": [
    "sns.regplot(x='new',y='Price',data=df)"
   ]
  },
  {
   "cell_type": "code",
   "execution_count": 31,
   "metadata": {},
   "outputs": [],
   "source": [
    "Y = df['Pred'].loc[:410]\n",
    "x = df[['Price','Open','High','Low']].loc[:410]\n"
   ]
  },
  {
   "cell_type": "code",
   "execution_count": 32,
   "metadata": {},
   "outputs": [
    {
     "data": {
      "text/plain": [
       "LinearRegression()"
      ]
     },
     "execution_count": 32,
     "metadata": {},
     "output_type": "execute_result"
    }
   ],
   "source": [
    "l.fit(x,Y)\n"
   ]
  },
  {
   "cell_type": "code",
   "execution_count": 34,
   "metadata": {},
   "outputs": [],
   "source": [
    "out_x = df[['Price','Open','High','Low']].loc[411:]\n",
    "out_y = l.predict(out_x)"
   ]
  },
  {
   "cell_type": "code",
   "execution_count": 41,
   "metadata": {},
   "outputs": [
    {
     "data": {
      "text/plain": [
       "array([ 852.,  422.,  530.,  144.,  415., 1103.,  411.,  613.,    5.,\n",
       "        547.,  -27.,  368.,  263.,  615.,  479.,  -82.,  489., 2890.,\n",
       "        340.,  274.,  469.,  487.,  -48.,  364.,    7.,  277.,  283.,\n",
       "        550.,  110.,  413.,  146.,  241.,  406.,  119.,  405.,  303.,\n",
       "        154.,  679., 2111.,  860.,  -37.,  615.,  468.,  716.,  410.,\n",
       "        251.,  466.,  254.,  109.,  470.,  241.,  776.,  471.,  555.,\n",
       "       -139.,  224.,  603., 3024.,  331., 2895.,  476.,  589.,  233.,\n",
       "        670.,  152.,   32.,  960.,  359.,  595.,  439.,  586.,   93.,\n",
       "        741.,  466.,  502.,  159.,  833.,  378.,    6.,  694.,  518.,\n",
       "        554.,  517.,  202.,  338.,  489., 1070.,   -8.,  579.,  468.,\n",
       "        223.,  264., -132.,  350.,  359.,  446.,  535.,  438.,  269.,\n",
       "        601.,  280.])"
      ]
     },
     "execution_count": 41,
     "metadata": {},
     "output_type": "execute_result"
    }
   ],
   "source": [
    "out_y"
   ]
  },
  {
   "cell_type": "code",
   "execution_count": 47,
   "metadata": {},
   "outputs": [],
   "source": [
    "i=-1\n",
    "def rep(x):\n",
    "    if x!=np.nan:\n",
    "        return x\n",
    "    i+=1\n",
    "    return int(out_y[i])"
   ]
  },
  {
   "cell_type": "code",
   "execution_count": 48,
   "metadata": {},
   "outputs": [],
   "source": [
    "df['Pred'] = df['Pred'].apply(lambda x:rep(x))"
   ]
  },
  {
   "cell_type": "code",
   "execution_count": 50,
   "metadata": {},
   "outputs": [
    {
     "data": {
      "text/html": [
       "<div>\n",
       "<style scoped>\n",
       "    .dataframe tbody tr th:only-of-type {\n",
       "        vertical-align: middle;\n",
       "    }\n",
       "\n",
       "    .dataframe tbody tr th {\n",
       "        vertical-align: top;\n",
       "    }\n",
       "\n",
       "    .dataframe thead th {\n",
       "        text-align: right;\n",
       "    }\n",
       "</style>\n",
       "<table border=\"1\" class=\"dataframe\">\n",
       "  <thead>\n",
       "    <tr style=\"text-align: right;\">\n",
       "      <th></th>\n",
       "      <th>Date</th>\n",
       "      <th>Price</th>\n",
       "      <th>Open</th>\n",
       "      <th>High</th>\n",
       "      <th>Low</th>\n",
       "      <th>Vol.</th>\n",
       "      <th>Change %</th>\n",
       "      <th>Pred</th>\n",
       "      <th>new</th>\n",
       "    </tr>\n",
       "  </thead>\n",
       "  <tbody>\n",
       "    <tr>\n",
       "      <th>507</th>\n",
       "      <td>Apr 26, 2019</td>\n",
       "      <td>31868</td>\n",
       "      <td>31851</td>\n",
       "      <td>31934</td>\n",
       "      <td>31705</td>\n",
       "      <td>9.67K</td>\n",
       "      <td>0.08%</td>\n",
       "      <td>535.0</td>\n",
       "      <td>247.177322</td>\n",
       "    </tr>\n",
       "    <tr>\n",
       "      <th>508</th>\n",
       "      <td>Apr 30, 2019</td>\n",
       "      <td>31625</td>\n",
       "      <td>31800</td>\n",
       "      <td>31824</td>\n",
       "      <td>31597</td>\n",
       "      <td>6.44K</td>\n",
       "      <td>-0.76%</td>\n",
       "      <td>438.0</td>\n",
       "      <td>52.201158</td>\n",
       "    </tr>\n",
       "    <tr>\n",
       "      <th>509</th>\n",
       "      <td>May 01, 2019</td>\n",
       "      <td>31563</td>\n",
       "      <td>31604</td>\n",
       "      <td>31657</td>\n",
       "      <td>31503</td>\n",
       "      <td>1.55K</td>\n",
       "      <td>-0.20%</td>\n",
       "      <td>269.0</td>\n",
       "      <td>113.293305</td>\n",
       "    </tr>\n",
       "    <tr>\n",
       "      <th>510</th>\n",
       "      <td>May 02, 2019</td>\n",
       "      <td>31203</td>\n",
       "      <td>31420</td>\n",
       "      <td>31425</td>\n",
       "      <td>31160</td>\n",
       "      <td>0.48K</td>\n",
       "      <td>-1.14%</td>\n",
       "      <td>601.0</td>\n",
       "      <td>48.365693</td>\n",
       "    </tr>\n",
       "    <tr>\n",
       "      <th>511</th>\n",
       "      <td>May 03, 2019</td>\n",
       "      <td>31341</td>\n",
       "      <td>31250</td>\n",
       "      <td>31500</td>\n",
       "      <td>31163</td>\n",
       "      <td>0.08K</td>\n",
       "      <td>0.44%</td>\n",
       "      <td>280.0</td>\n",
       "      <td>429.924911</td>\n",
       "    </tr>\n",
       "  </tbody>\n",
       "</table>\n",
       "</div>"
      ],
      "text/plain": [
       "             Date  Price   Open   High    Low   Vol. Change %   Pred  \\\n",
       "507  Apr 26, 2019  31868  31851  31934  31705  9.67K    0.08%  535.0   \n",
       "508  Apr 30, 2019  31625  31800  31824  31597  6.44K   -0.76%  438.0   \n",
       "509  May 01, 2019  31563  31604  31657  31503  1.55K   -0.20%  269.0   \n",
       "510  May 02, 2019  31203  31420  31425  31160  0.48K   -1.14%  601.0   \n",
       "511  May 03, 2019  31341  31250  31500  31163  0.08K    0.44%  280.0   \n",
       "\n",
       "            new  \n",
       "507  247.177322  \n",
       "508   52.201158  \n",
       "509  113.293305  \n",
       "510   48.365693  \n",
       "511  429.924911  "
      ]
     },
     "execution_count": 50,
     "metadata": {},
     "output_type": "execute_result"
    }
   ],
   "source": [
    "df.tail()"
   ]
  },
  {
   "cell_type": "code",
   "execution_count": 52,
   "metadata": {},
   "outputs": [
    {
     "data": {
      "text/plain": [
       "array([ 2.,  3., -1., -4.])"
      ]
     },
     "execution_count": 52,
     "metadata": {},
     "output_type": "execute_result"
    }
   ],
   "source": [
    "l.coef_"
   ]
  },
  {
   "cell_type": "markdown",
   "metadata": {},
   "source": [
    "<h4> finally the values changed using the model l </h4>"
   ]
  },
  {
   "cell_type": "code",
   "execution_count": 53,
   "metadata": {},
   "outputs": [
    {
     "data": {
      "text/plain": [
       "411    852.0\n",
       "412    422.0\n",
       "413    530.0\n",
       "414    144.0\n",
       "415    415.0\n",
       "       ...  \n",
       "507    535.0\n",
       "508    438.0\n",
       "509    269.0\n",
       "510    601.0\n",
       "511    280.0\n",
       "Name: Pred, Length: 101, dtype: float64"
      ]
     },
     "execution_count": 53,
     "metadata": {},
     "output_type": "execute_result"
    }
   ],
   "source": [
    "df['Pred'].loc[411:]"
   ]
  },
  {
   "cell_type": "markdown",
   "metadata": {},
   "source": [
    "<h4>creating a new instance of linear regression for column \"Pred\"</h4>"
   ]
  },
  {
   "cell_type": "code",
   "execution_count": 55,
   "metadata": {},
   "outputs": [],
   "source": [
    "new_l_Pred = LinearRegression()"
   ]
  },
  {
   "cell_type": "code",
   "execution_count": 58,
   "metadata": {},
   "outputs": [],
   "source": [
    "from sklearn.model_selection import train_test_split"
   ]
  },
  {
   "cell_type": "code",
   "execution_count": 59,
   "metadata": {},
   "outputs": [],
   "source": [
    "y = df['Pred']\n",
    "x = df[['Price','Open','High','Low','new']]\n",
    "X_train, X_test, y_train, y_test = train_test_split(x, y, test_size=0.3, random_state=30)"
   ]
  },
  {
   "cell_type": "code",
   "execution_count": 60,
   "metadata": {},
   "outputs": [
    {
     "data": {
      "text/plain": [
       "LinearRegression()"
      ]
     },
     "execution_count": 60,
     "metadata": {},
     "output_type": "execute_result"
    }
   ],
   "source": [
    "new_l_Pred.fit(X_train,y_train)"
   ]
  },
  {
   "cell_type": "markdown",
   "metadata": {},
   "source": [
    "<h4>Predictions from our model</h4>"
   ]
  },
  {
   "cell_type": "code",
   "execution_count": 62,
   "metadata": {},
   "outputs": [],
   "source": [
    "pred = new_l_Pred.predict(X_test)"
   ]
  },
  {
   "cell_type": "code",
   "execution_count": 63,
   "metadata": {},
   "outputs": [
    {
     "data": {
      "text/plain": [
       "<matplotlib.collections.PathCollection at 0x214a30ae0f0>"
      ]
     },
     "execution_count": 63,
     "metadata": {},
     "output_type": "execute_result"
    },
    {
     "data": {
      "image/png": "[encoded data removed]",
      "text/plain": [
       "<Figure size 432x288 with 1 Axes>"
      ]
     },
     "metadata": {
      "needs_background": "light"
     },
     "output_type": "display_data"
    }
   ],
   "source": [
    "plt.scatter(y_test,pred)"
   ]
  },
  {
   "cell_type": "markdown",
   "metadata": {},
   "source": [
    "<h4>residual histogram</h4>"
   ]
  },
  {
   "cell_type": "code",
   "execution_count": 64,
   "metadata": {},
   "outputs": [
    {
     "data": {
      "text/plain": [
       "<matplotlib.axes._subplots.AxesSubplot at 0x214a32a1eb8>"
      ]
     },
     "execution_count": 64,
     "metadata": {},
     "output_type": "execute_result"
    },
    {
     "data": {
      "image/png": "[encoded data removed]",
      "text/plain": [
       "<Figure size 432x288 with 1 Axes>"
      ]
     },
     "metadata": {
      "needs_background": "light"
     },
     "output_type": "display_data"
    }
   ],
   "source": [
    "sns.distplot((y_test-pred),bins=50)"
   ]
  },
  {
   "cell_type": "markdown",
   "metadata": {},
   "source": [
    "<h4>creating a new instance of linear regression for column \"new\"</h4>"
   ]
  },
  {
   "cell_type": "code",
   "execution_count": 65,
   "metadata": {},
   "outputs": [],
   "source": [
    "new_l_new = LinearRegression()"
   ]
  },
  {
   "cell_type": "code",
   "execution_count": 66,
   "metadata": {},
   "outputs": [],
   "source": [
    "from sklearn.model_selection import train_test_split"
   ]
  },
  {
   "cell_type": "code",
   "execution_count": 68,
   "metadata": {},
   "outputs": [],
   "source": [
    "y = df['new']\n",
    "x = df[['Price','Open','High','Low','Pred']]\n",
    "X_train, X_test, y_train, y_test = train_test_split(x, y, test_size=0.3, random_state=30)"
   ]
  },
  {
   "cell_type": "code",
   "execution_count": 69,
   "metadata": {},
   "outputs": [
    {
     "data": {
      "text/plain": [
       "LinearRegression()"
      ]
     },
     "execution_count": 69,
     "metadata": {},
     "output_type": "execute_result"
    }
   ],
   "source": [
    "new_l_new.fit(X_train,y_train)"
   ]
  },
  {
   "cell_type": "markdown",
   "metadata": {},
   "source": [
    "<h4>Predictions from our model</h4>"
   ]
  },
  {
   "cell_type": "code",
   "execution_count": 70,
   "metadata": {},
   "outputs": [],
   "source": [
    "pred = new_l_Pred.predict(X_test)"
   ]
  },
  {
   "cell_type": "code",
   "execution_count": 71,
   "metadata": {},
   "outputs": [
    {
     "data": {
      "text/plain": [
       "<matplotlib.collections.PathCollection at 0x214a2fd6630>"
      ]
     },
     "execution_count": 71,
     "metadata": {},
     "output_type": "execute_result"
    },
    {
     "data": {
      "image/png": "[encoded data removed]",
      "text/plain": [
       "<Figure size 432x288 with 1 Axes>"
      ]
     },
     "metadata": {
      "needs_background": "light"
     },
     "output_type": "display_data"
    }
   ],
   "source": [
    "plt.scatter(y_test,pred)"
   ]
  },
  {
   "cell_type": "markdown",
   "metadata": {},
   "source": [
    "<h4>residual histogram</h4>\n"
   ]
  },
  {
   "cell_type": "code",
   "execution_count": 72,
   "metadata": {},
   "outputs": [
    {
     "data": {
      "text/plain": [
       "<matplotlib.axes._subplots.AxesSubplot at 0x214a2fa1f98>"
      ]
     },
     "execution_count": 72,
     "metadata": {},
     "output_type": "execute_result"
    },
    {
     "data": {
      "image/png": "[encoded data removed]",
      "text/plain": [
       "<Figure size 432x288 with 1 Axes>"
      ]
     },
     "metadata": {
      "needs_background": "light"
     },
     "output_type": "display_data"
    }
   ],
   "source": [
    "sns.distplot((y_test-pred),bins=50)"
   ]
  },
  {
   "cell_type": "markdown",
   "metadata": {},
   "source": [
    "<h3>Conclusion:</h3>\n",
    "<h4>Since the scatter plot for column 'Pred' completely fit in the LinearRegression model it is Linear Function and 'new' column is Polynomial.</h4>\n"
   ]
  },
  {
   "cell_type": "markdown",
   "metadata": {},
   "source": [
    "<h1>3.2 Calculate Beta Value</h1>"
   ]
  },
  {
   "cell_type": "code",
   "execution_count": 78,
   "metadata": {},
   "outputs": [],
   "source": [
    "infy=pd.read_csv('week3.csv')\n",
    "infy.index = infy['Date'].astype('datetime64')\n",
    "nifty=pd.read_csv('Nifty50.csv')\n",
    "nifty.index = nifty['Date'].astype('datetime64')"
   ]
  },
  {
   "cell_type": "code",
   "execution_count": 79,
   "metadata": {},
   "outputs": [],
   "source": [
    "import statsmodels.api as sm"
   ]
  },
  {
   "cell_type": "code",
   "execution_count": 80,
   "metadata": {},
   "outputs": [],
   "source": [
    "#past 3 months close price\n",
    "daily_prices = pd.concat([nifty['Close']['2019-02-13':].pct_change(1), infy['Close Price']['2019-02-13':].pct_change(1)], axis = 1)\n",
    "daily_prices.columns = ['NIFTY', 'INFY']\n",
    "daily_prices.dropna(axis=0,inplace=True)"
   ]
  },
  {
   "cell_type": "code",
   "execution_count": 81,
   "metadata": {},
   "outputs": [
    {
     "data": {
      "text/html": [
       "<div>\n",
       "<style scoped>\n",
       "    .dataframe tbody tr th:only-of-type {\n",
       "        vertical-align: middle;\n",
       "    }\n",
       "\n",
       "    .dataframe tbody tr th {\n",
       "        vertical-align: top;\n",
       "    }\n",
       "\n",
       "    .dataframe thead th {\n",
       "        text-align: right;\n",
       "    }\n",
       "</style>\n",
       "<table border=\"1\" class=\"dataframe\">\n",
       "  <thead>\n",
       "    <tr style=\"text-align: right;\">\n",
       "      <th></th>\n",
       "      <th>const</th>\n",
       "      <th>NIFTY</th>\n",
       "    </tr>\n",
       "    <tr>\n",
       "      <th>Date</th>\n",
       "      <th></th>\n",
       "      <th></th>\n",
       "    </tr>\n",
       "  </thead>\n",
       "  <tbody>\n",
       "    <tr>\n",
       "      <th>2019-02-14</th>\n",
       "      <td>1.0</td>\n",
       "      <td>0.000000</td>\n",
       "    </tr>\n",
       "    <tr>\n",
       "      <th>2019-02-15</th>\n",
       "      <td>1.0</td>\n",
       "      <td>-0.002015</td>\n",
       "    </tr>\n",
       "    <tr>\n",
       "      <th>2019-02-18</th>\n",
       "      <td>1.0</td>\n",
       "      <td>-0.007781</td>\n",
       "    </tr>\n",
       "    <tr>\n",
       "      <th>2019-02-19</th>\n",
       "      <td>1.0</td>\n",
       "      <td>-0.003440</td>\n",
       "    </tr>\n",
       "    <tr>\n",
       "      <th>2019-02-20</th>\n",
       "      <td>1.0</td>\n",
       "      <td>0.012363</td>\n",
       "    </tr>\n",
       "    <tr>\n",
       "      <th>2019-02-21</th>\n",
       "      <td>1.0</td>\n",
       "      <td>0.005067</td>\n",
       "    </tr>\n",
       "    <tr>\n",
       "      <th>2019-02-22</th>\n",
       "      <td>1.0</td>\n",
       "      <td>0.000167</td>\n",
       "    </tr>\n",
       "    <tr>\n",
       "      <th>2019-02-25</th>\n",
       "      <td>1.0</td>\n",
       "      <td>0.008196</td>\n",
       "    </tr>\n",
       "    <tr>\n",
       "      <th>2019-02-26</th>\n",
       "      <td>1.0</td>\n",
       "      <td>-0.004118</td>\n",
       "    </tr>\n",
       "    <tr>\n",
       "      <th>2019-02-27</th>\n",
       "      <td>1.0</td>\n",
       "      <td>-0.002644</td>\n",
       "    </tr>\n",
       "    <tr>\n",
       "      <th>2019-02-28</th>\n",
       "      <td>1.0</td>\n",
       "      <td>-0.001309</td>\n",
       "    </tr>\n",
       "    <tr>\n",
       "      <th>2019-03-01</th>\n",
       "      <td>1.0</td>\n",
       "      <td>0.006579</td>\n",
       "    </tr>\n",
       "    <tr>\n",
       "      <th>2019-03-05</th>\n",
       "      <td>1.0</td>\n",
       "      <td>0.011410</td>\n",
       "    </tr>\n",
       "    <tr>\n",
       "      <th>2019-03-06</th>\n",
       "      <td>1.0</td>\n",
       "      <td>0.005966</td>\n",
       "    </tr>\n",
       "    <tr>\n",
       "      <th>2019-03-07</th>\n",
       "      <td>1.0</td>\n",
       "      <td>0.000470</td>\n",
       "    </tr>\n",
       "    <tr>\n",
       "      <th>2019-03-08</th>\n",
       "      <td>1.0</td>\n",
       "      <td>-0.002062</td>\n",
       "    </tr>\n",
       "    <tr>\n",
       "      <th>2019-03-11</th>\n",
       "      <td>1.0</td>\n",
       "      <td>0.012020</td>\n",
       "    </tr>\n",
       "    <tr>\n",
       "      <th>2019-03-12</th>\n",
       "      <td>1.0</td>\n",
       "      <td>0.011922</td>\n",
       "    </tr>\n",
       "    <tr>\n",
       "      <th>2019-03-13</th>\n",
       "      <td>1.0</td>\n",
       "      <td>0.003584</td>\n",
       "    </tr>\n",
       "    <tr>\n",
       "      <th>2019-03-14</th>\n",
       "      <td>1.0</td>\n",
       "      <td>0.000137</td>\n",
       "    </tr>\n",
       "    <tr>\n",
       "      <th>2019-03-15</th>\n",
       "      <td>1.0</td>\n",
       "      <td>0.007370</td>\n",
       "    </tr>\n",
       "    <tr>\n",
       "      <th>2019-03-18</th>\n",
       "      <td>1.0</td>\n",
       "      <td>0.003094</td>\n",
       "    </tr>\n",
       "    <tr>\n",
       "      <th>2019-03-19</th>\n",
       "      <td>1.0</td>\n",
       "      <td>0.006124</td>\n",
       "    </tr>\n",
       "    <tr>\n",
       "      <th>2019-03-20</th>\n",
       "      <td>1.0</td>\n",
       "      <td>-0.000984</td>\n",
       "    </tr>\n",
       "    <tr>\n",
       "      <th>2019-03-22</th>\n",
       "      <td>1.0</td>\n",
       "      <td>-0.005568</td>\n",
       "    </tr>\n",
       "    <tr>\n",
       "      <th>2019-03-25</th>\n",
       "      <td>1.0</td>\n",
       "      <td>-0.008960</td>\n",
       "    </tr>\n",
       "    <tr>\n",
       "      <th>2019-03-26</th>\n",
       "      <td>1.0</td>\n",
       "      <td>0.011361</td>\n",
       "    </tr>\n",
       "    <tr>\n",
       "      <th>2019-03-27</th>\n",
       "      <td>1.0</td>\n",
       "      <td>-0.003327</td>\n",
       "    </tr>\n",
       "    <tr>\n",
       "      <th>2019-03-28</th>\n",
       "      <td>1.0</td>\n",
       "      <td>0.010917</td>\n",
       "    </tr>\n",
       "    <tr>\n",
       "      <th>2019-03-29</th>\n",
       "      <td>1.0</td>\n",
       "      <td>0.004659</td>\n",
       "    </tr>\n",
       "    <tr>\n",
       "      <th>2019-04-01</th>\n",
       "      <td>1.0</td>\n",
       "      <td>0.003893</td>\n",
       "    </tr>\n",
       "    <tr>\n",
       "      <th>2019-04-02</th>\n",
       "      <td>1.0</td>\n",
       "      <td>0.003775</td>\n",
       "    </tr>\n",
       "    <tr>\n",
       "      <th>2019-04-03</th>\n",
       "      <td>1.0</td>\n",
       "      <td>-0.005912</td>\n",
       "    </tr>\n",
       "    <tr>\n",
       "      <th>2019-04-04</th>\n",
       "      <td>1.0</td>\n",
       "      <td>-0.003946</td>\n",
       "    </tr>\n",
       "    <tr>\n",
       "      <th>2019-04-05</th>\n",
       "      <td>1.0</td>\n",
       "      <td>0.005859</td>\n",
       "    </tr>\n",
       "    <tr>\n",
       "      <th>2019-04-08</th>\n",
       "      <td>1.0</td>\n",
       "      <td>-0.005267</td>\n",
       "    </tr>\n",
       "    <tr>\n",
       "      <th>2019-04-09</th>\n",
       "      <td>1.0</td>\n",
       "      <td>0.005812</td>\n",
       "    </tr>\n",
       "    <tr>\n",
       "      <th>2019-04-10</th>\n",
       "      <td>1.0</td>\n",
       "      <td>-0.007509</td>\n",
       "    </tr>\n",
       "    <tr>\n",
       "      <th>2019-04-11</th>\n",
       "      <td>1.0</td>\n",
       "      <td>0.001070</td>\n",
       "    </tr>\n",
       "    <tr>\n",
       "      <th>2019-04-12</th>\n",
       "      <td>1.0</td>\n",
       "      <td>0.004031</td>\n",
       "    </tr>\n",
       "    <tr>\n",
       "      <th>2019-04-15</th>\n",
       "      <td>1.0</td>\n",
       "      <td>0.004028</td>\n",
       "    </tr>\n",
       "    <tr>\n",
       "      <th>2019-04-16</th>\n",
       "      <td>1.0</td>\n",
       "      <td>0.008280</td>\n",
       "    </tr>\n",
       "    <tr>\n",
       "      <th>2019-04-18</th>\n",
       "      <td>1.0</td>\n",
       "      <td>-0.002914</td>\n",
       "    </tr>\n",
       "    <tr>\n",
       "      <th>2019-04-22</th>\n",
       "      <td>1.0</td>\n",
       "      <td>-0.013473</td>\n",
       "    </tr>\n",
       "    <tr>\n",
       "      <th>2019-04-23</th>\n",
       "      <td>1.0</td>\n",
       "      <td>-0.001596</td>\n",
       "    </tr>\n",
       "    <tr>\n",
       "      <th>2019-04-24</th>\n",
       "      <td>1.0</td>\n",
       "      <td>0.012975</td>\n",
       "    </tr>\n",
       "    <tr>\n",
       "      <th>2019-04-25</th>\n",
       "      <td>1.0</td>\n",
       "      <td>-0.007193</td>\n",
       "    </tr>\n",
       "    <tr>\n",
       "      <th>2019-04-26</th>\n",
       "      <td>1.0</td>\n",
       "      <td>0.009694</td>\n",
       "    </tr>\n",
       "    <tr>\n",
       "      <th>2019-04-30</th>\n",
       "      <td>1.0</td>\n",
       "      <td>-0.000553</td>\n",
       "    </tr>\n",
       "    <tr>\n",
       "      <th>2019-05-02</th>\n",
       "      <td>1.0</td>\n",
       "      <td>-0.001992</td>\n",
       "    </tr>\n",
       "    <tr>\n",
       "      <th>2019-05-03</th>\n",
       "      <td>1.0</td>\n",
       "      <td>-0.001066</td>\n",
       "    </tr>\n",
       "    <tr>\n",
       "      <th>2019-05-06</th>\n",
       "      <td>1.0</td>\n",
       "      <td>-0.009733</td>\n",
       "    </tr>\n",
       "    <tr>\n",
       "      <th>2019-05-07</th>\n",
       "      <td>1.0</td>\n",
       "      <td>-0.008652</td>\n",
       "    </tr>\n",
       "    <tr>\n",
       "      <th>2019-05-08</th>\n",
       "      <td>1.0</td>\n",
       "      <td>-0.012041</td>\n",
       "    </tr>\n",
       "    <tr>\n",
       "      <th>2019-05-09</th>\n",
       "      <td>1.0</td>\n",
       "      <td>-0.005075</td>\n",
       "    </tr>\n",
       "    <tr>\n",
       "      <th>2019-05-10</th>\n",
       "      <td>1.0</td>\n",
       "      <td>-0.002026</td>\n",
       "    </tr>\n",
       "    <tr>\n",
       "      <th>2019-05-13</th>\n",
       "      <td>1.0</td>\n",
       "      <td>-0.011588</td>\n",
       "    </tr>\n",
       "  </tbody>\n",
       "</table>\n",
       "</div>"
      ],
      "text/plain": [
       "            const     NIFTY\n",
       "Date                       \n",
       "2019-02-14    1.0  0.000000\n",
       "2019-02-15    1.0 -0.002015\n",
       "2019-02-18    1.0 -0.007781\n",
       "2019-02-19    1.0 -0.003440\n",
       "2019-02-20    1.0  0.012363\n",
       "2019-02-21    1.0  0.005067\n",
       "2019-02-22    1.0  0.000167\n",
       "2019-02-25    1.0  0.008196\n",
       "2019-02-26    1.0 -0.004118\n",
       "2019-02-27    1.0 -0.002644\n",
       "2019-02-28    1.0 -0.001309\n",
       "2019-03-01    1.0  0.006579\n",
       "2019-03-05    1.0  0.011410\n",
       "2019-03-06    1.0  0.005966\n",
       "2019-03-07    1.0  0.000470\n",
       "2019-03-08    1.0 -0.002062\n",
       "2019-03-11    1.0  0.012020\n",
       "2019-03-12    1.0  0.011922\n",
       "2019-03-13    1.0  0.003584\n",
       "2019-03-14    1.0  0.000137\n",
       "2019-03-15    1.0  0.007370\n",
       "2019-03-18    1.0  0.003094\n",
       "2019-03-19    1.0  0.006124\n",
       "2019-03-20    1.0 -0.000984\n",
       "2019-03-22    1.0 -0.005568\n",
       "2019-03-25    1.0 -0.008960\n",
       "2019-03-26    1.0  0.011361\n",
       "2019-03-27    1.0 -0.003327\n",
       "2019-03-28    1.0  0.010917\n",
       "2019-03-29    1.0  0.004659\n",
       "2019-04-01    1.0  0.003893\n",
       "2019-04-02    1.0  0.003775\n",
       "2019-04-03    1.0 -0.005912\n",
       "2019-04-04    1.0 -0.003946\n",
       "2019-04-05    1.0  0.005859\n",
       "2019-04-08    1.0 -0.005267\n",
       "2019-04-09    1.0  0.005812\n",
       "2019-04-10    1.0 -0.007509\n",
       "2019-04-11    1.0  0.001070\n",
       "2019-04-12    1.0  0.004031\n",
       "2019-04-15    1.0  0.004028\n",
       "2019-04-16    1.0  0.008280\n",
       "2019-04-18    1.0 -0.002914\n",
       "2019-04-22    1.0 -0.013473\n",
       "2019-04-23    1.0 -0.001596\n",
       "2019-04-24    1.0  0.012975\n",
       "2019-04-25    1.0 -0.007193\n",
       "2019-04-26    1.0  0.009694\n",
       "2019-04-30    1.0 -0.000553\n",
       "2019-05-02    1.0 -0.001992\n",
       "2019-05-03    1.0 -0.001066\n",
       "2019-05-06    1.0 -0.009733\n",
       "2019-05-07    1.0 -0.008652\n",
       "2019-05-08    1.0 -0.012041\n",
       "2019-05-09    1.0 -0.005075\n",
       "2019-05-10    1.0 -0.002026\n",
       "2019-05-13    1.0 -0.011588"
      ]
     },
     "execution_count": 81,
     "metadata": {},
     "output_type": "execute_result"
    }
   ],
   "source": [
    "#OLS model\n",
    "x=daily_prices['NIFTY']\n",
    "y=daily_prices['INFY']\n",
    "x1 = sm.add_constant(x)\n",
    "x1['NIFTY'][0]=0\n",
    "x1"
   ]
  },
  {
   "cell_type": "code",
   "execution_count": 82,
   "metadata": {},
   "outputs": [
    {
     "data": {
      "text/plain": [
       "<statsmodels.regression.linear_model.RegressionResultsWrapper at 0x2149eb45860>"
      ]
     },
     "execution_count": 82,
     "metadata": {},
     "output_type": "execute_result"
    }
   ],
   "source": [
    "model = sm.OLS(y, x1)\n",
    "results = model.fit()\n",
    "results"
   ]
  },
  {
   "cell_type": "code",
   "execution_count": 83,
   "metadata": {},
   "outputs": [
    {
     "name": "stdout",
     "output_type": "stream",
     "text": [
      "                  Results: Ordinary least squares\n",
      "===================================================================\n",
      "Model:              OLS              Adj. R-squared:     0.048     \n",
      "Dependent Variable: INFY             AIC:                -338.2171 \n",
      "Date:               2020-05-28 23:51 BIC:                -334.1310 \n",
      "No. Observations:   57               Log-Likelihood:     171.11    \n",
      "Df Model:           1                F-statistic:        3.832     \n",
      "Df Residuals:       55               Prob (F-statistic): 0.0554    \n",
      "R-squared:          0.065            Scale:              0.00014984\n",
      "----------------------------------------------------------------------\n",
      "          Coef.     Std.Err.       t       P>|t|      [0.025    0.975]\n",
      "----------------------------------------------------------------------\n",
      "const    -0.0011      0.0016    -0.6572    0.5138    -0.0043    0.0022\n",
      "NIFTY     0.4650      0.2376     1.9576    0.0554    -0.0110    0.9411\n",
      "-------------------------------------------------------------------\n",
      "Omnibus:               0.880         Durbin-Watson:           1.994\n",
      "Prob(Omnibus):         0.644         Jarque-Bera (JB):        0.862\n",
      "Skew:                  -0.091        Prob(JB):                0.650\n",
      "Kurtosis:              2.426         Condition No.:           147  \n",
      "===================================================================\n",
      "\n"
     ]
    }
   ],
   "source": [
    "print(results.summary2())"
   ]
  },
  {
   "cell_type": "code",
   "execution_count": 84,
   "metadata": {},
   "outputs": [
    {
     "name": "stdout",
     "output_type": "stream",
     "text": [
      "Beta 0.46502172434966904\n"
     ]
    }
   ],
   "source": [
    "\n",
    "print('Beta',results.params[1])"
   ]
  },
  {
   "cell_type": "code",
   "execution_count": 85,
   "metadata": {},
   "outputs": [
    {
     "data": {
      "text/html": [
       "<div>\n",
       "<style scoped>\n",
       "    .dataframe tbody tr th:only-of-type {\n",
       "        vertical-align: middle;\n",
       "    }\n",
       "\n",
       "    .dataframe tbody tr th {\n",
       "        vertical-align: top;\n",
       "    }\n",
       "\n",
       "    .dataframe thead th {\n",
       "        text-align: right;\n",
       "    }\n",
       "</style>\n",
       "<table border=\"1\" class=\"dataframe\">\n",
       "  <thead>\n",
       "    <tr style=\"text-align: right;\">\n",
       "      <th></th>\n",
       "      <th>NIFTY</th>\n",
       "      <th>INFY</th>\n",
       "    </tr>\n",
       "    <tr>\n",
       "      <th>Date</th>\n",
       "      <th></th>\n",
       "      <th></th>\n",
       "    </tr>\n",
       "  </thead>\n",
       "  <tbody>\n",
       "    <tr>\n",
       "      <th>2017-06</th>\n",
       "      <td>0.633819</td>\n",
       "      <td>0.583443</td>\n",
       "    </tr>\n",
       "    <tr>\n",
       "      <th>2017-07</th>\n",
       "      <td>0.025311</td>\n",
       "      <td>0.026222</td>\n",
       "    </tr>\n",
       "    <tr>\n",
       "      <th>2017-08</th>\n",
       "      <td>0.005184</td>\n",
       "      <td>-0.022323</td>\n",
       "    </tr>\n",
       "    <tr>\n",
       "      <th>2017-09</th>\n",
       "      <td>0.007750</td>\n",
       "      <td>-0.055891</td>\n",
       "    </tr>\n",
       "    <tr>\n",
       "      <th>2017-10</th>\n",
       "      <td>-0.032275</td>\n",
       "      <td>-0.017377</td>\n",
       "    </tr>\n",
       "    <tr>\n",
       "      <th>2017-11</th>\n",
       "      <td>0.120189</td>\n",
       "      <td>0.141330</td>\n",
       "    </tr>\n",
       "    <tr>\n",
       "      <th>2017-12</th>\n",
       "      <td>-0.091129</td>\n",
       "      <td>-0.045285</td>\n",
       "    </tr>\n",
       "    <tr>\n",
       "      <th>2018-01</th>\n",
       "      <td>0.147837</td>\n",
       "      <td>0.198885</td>\n",
       "    </tr>\n",
       "    <tr>\n",
       "      <th>2018-02</th>\n",
       "      <td>-0.155451</td>\n",
       "      <td>-0.112087</td>\n",
       "    </tr>\n",
       "    <tr>\n",
       "      <th>2018-03</th>\n",
       "      <td>-0.028528</td>\n",
       "      <td>0.026132</td>\n",
       "    </tr>\n",
       "    <tr>\n",
       "      <th>2018-04</th>\n",
       "      <td>0.131220</td>\n",
       "      <td>0.092051</td>\n",
       "    </tr>\n",
       "    <tr>\n",
       "      <th>2018-05</th>\n",
       "      <td>0.066776</td>\n",
       "      <td>0.088069</td>\n",
       "    </tr>\n",
       "    <tr>\n",
       "      <th>2018-06</th>\n",
       "      <td>-0.038426</td>\n",
       "      <td>0.006423</td>\n",
       "    </tr>\n",
       "    <tr>\n",
       "      <th>2018-07</th>\n",
       "      <td>0.071821</td>\n",
       "      <td>0.111725</td>\n",
       "    </tr>\n",
       "    <tr>\n",
       "      <th>2018-08</th>\n",
       "      <td>-0.001399</td>\n",
       "      <td>-0.003583</td>\n",
       "    </tr>\n",
       "    <tr>\n",
       "      <th>2018-09</th>\n",
       "      <td>-0.157869</td>\n",
       "      <td>-0.528650</td>\n",
       "    </tr>\n",
       "    <tr>\n",
       "      <th>2018-10</th>\n",
       "      <td>0.072354</td>\n",
       "      <td>0.046765</td>\n",
       "    </tr>\n",
       "    <tr>\n",
       "      <th>2018-11</th>\n",
       "      <td>-0.025792</td>\n",
       "      <td>-0.094228</td>\n",
       "    </tr>\n",
       "    <tr>\n",
       "      <th>2018-12</th>\n",
       "      <td>0.014748</td>\n",
       "      <td>0.027090</td>\n",
       "    </tr>\n",
       "    <tr>\n",
       "      <th>2019-01</th>\n",
       "      <td>0.153310</td>\n",
       "      <td>0.213078</td>\n",
       "    </tr>\n",
       "    <tr>\n",
       "      <th>2019-02</th>\n",
       "      <td>-0.128474</td>\n",
       "      <td>-0.082443</td>\n",
       "    </tr>\n",
       "    <tr>\n",
       "      <th>2019-03</th>\n",
       "      <td>-0.007611</td>\n",
       "      <td>-0.077802</td>\n",
       "    </tr>\n",
       "    <tr>\n",
       "      <th>2019-04</th>\n",
       "      <td>0.030857</td>\n",
       "      <td>0.024205</td>\n",
       "    </tr>\n",
       "    <tr>\n",
       "      <th>2019-05</th>\n",
       "      <td>-0.586662</td>\n",
       "      <td>-0.591005</td>\n",
       "    </tr>\n",
       "  </tbody>\n",
       "</table>\n",
       "</div>"
      ],
      "text/plain": [
       "            NIFTY      INFY\n",
       "Date                       \n",
       "2017-06  0.633819  0.583443\n",
       "2017-07  0.025311  0.026222\n",
       "2017-08  0.005184 -0.022323\n",
       "2017-09  0.007750 -0.055891\n",
       "2017-10 -0.032275 -0.017377\n",
       "2017-11  0.120189  0.141330\n",
       "2017-12 -0.091129 -0.045285\n",
       "2018-01  0.147837  0.198885\n",
       "2018-02 -0.155451 -0.112087\n",
       "2018-03 -0.028528  0.026132\n",
       "2018-04  0.131220  0.092051\n",
       "2018-05  0.066776  0.088069\n",
       "2018-06 -0.038426  0.006423\n",
       "2018-07  0.071821  0.111725\n",
       "2018-08 -0.001399 -0.003583\n",
       "2018-09 -0.157869 -0.528650\n",
       "2018-10  0.072354  0.046765\n",
       "2018-11 -0.025792 -0.094228\n",
       "2018-12  0.014748  0.027090\n",
       "2019-01  0.153310  0.213078\n",
       "2019-02 -0.128474 -0.082443\n",
       "2019-03 -0.007611 -0.077802\n",
       "2019-04  0.030857  0.024205\n",
       "2019-05 -0.586662 -0.591005"
      ]
     },
     "execution_count": 85,
     "metadata": {},
     "output_type": "execute_result"
    }
   ],
   "source": [
    "#MONTHLY \n",
    "prices = pd.concat([nifty['Close'], infy['Close Price']], axis = 1)\n",
    "prices.columns = ['NIFTY', 'INFY']\n",
    "monthly=prices.groupby([prices.index.to_period('M')]).sum()\n",
    "month=monthly.pct_change()\n",
    "month.dropna(axis=0,inplace=True)\n",
    "month"
   ]
  },
  {
   "cell_type": "code",
   "execution_count": 86,
   "metadata": {},
   "outputs": [
    {
     "data": {
      "text/html": [
       "<div>\n",
       "<style scoped>\n",
       "    .dataframe tbody tr th:only-of-type {\n",
       "        vertical-align: middle;\n",
       "    }\n",
       "\n",
       "    .dataframe tbody tr th {\n",
       "        vertical-align: top;\n",
       "    }\n",
       "\n",
       "    .dataframe thead th {\n",
       "        text-align: right;\n",
       "    }\n",
       "</style>\n",
       "<table border=\"1\" class=\"dataframe\">\n",
       "  <thead>\n",
       "    <tr style=\"text-align: right;\">\n",
       "      <th></th>\n",
       "      <th>const</th>\n",
       "      <th>NIFTY</th>\n",
       "    </tr>\n",
       "    <tr>\n",
       "      <th>Date</th>\n",
       "      <th></th>\n",
       "      <th></th>\n",
       "    </tr>\n",
       "  </thead>\n",
       "  <tbody>\n",
       "    <tr>\n",
       "      <th>2017-06</th>\n",
       "      <td>1.0</td>\n",
       "      <td>0.000000</td>\n",
       "    </tr>\n",
       "    <tr>\n",
       "      <th>2017-07</th>\n",
       "      <td>1.0</td>\n",
       "      <td>0.025311</td>\n",
       "    </tr>\n",
       "    <tr>\n",
       "      <th>2017-08</th>\n",
       "      <td>1.0</td>\n",
       "      <td>0.005184</td>\n",
       "    </tr>\n",
       "    <tr>\n",
       "      <th>2017-09</th>\n",
       "      <td>1.0</td>\n",
       "      <td>0.007750</td>\n",
       "    </tr>\n",
       "    <tr>\n",
       "      <th>2017-10</th>\n",
       "      <td>1.0</td>\n",
       "      <td>-0.032275</td>\n",
       "    </tr>\n",
       "    <tr>\n",
       "      <th>2017-11</th>\n",
       "      <td>1.0</td>\n",
       "      <td>0.120189</td>\n",
       "    </tr>\n",
       "    <tr>\n",
       "      <th>2017-12</th>\n",
       "      <td>1.0</td>\n",
       "      <td>-0.091129</td>\n",
       "    </tr>\n",
       "    <tr>\n",
       "      <th>2018-01</th>\n",
       "      <td>1.0</td>\n",
       "      <td>0.147837</td>\n",
       "    </tr>\n",
       "    <tr>\n",
       "      <th>2018-02</th>\n",
       "      <td>1.0</td>\n",
       "      <td>-0.155451</td>\n",
       "    </tr>\n",
       "    <tr>\n",
       "      <th>2018-03</th>\n",
       "      <td>1.0</td>\n",
       "      <td>-0.028528</td>\n",
       "    </tr>\n",
       "    <tr>\n",
       "      <th>2018-04</th>\n",
       "      <td>1.0</td>\n",
       "      <td>0.131220</td>\n",
       "    </tr>\n",
       "    <tr>\n",
       "      <th>2018-05</th>\n",
       "      <td>1.0</td>\n",
       "      <td>0.066776</td>\n",
       "    </tr>\n",
       "    <tr>\n",
       "      <th>2018-06</th>\n",
       "      <td>1.0</td>\n",
       "      <td>-0.038426</td>\n",
       "    </tr>\n",
       "    <tr>\n",
       "      <th>2018-07</th>\n",
       "      <td>1.0</td>\n",
       "      <td>0.071821</td>\n",
       "    </tr>\n",
       "    <tr>\n",
       "      <th>2018-08</th>\n",
       "      <td>1.0</td>\n",
       "      <td>-0.001399</td>\n",
       "    </tr>\n",
       "    <tr>\n",
       "      <th>2018-09</th>\n",
       "      <td>1.0</td>\n",
       "      <td>-0.157869</td>\n",
       "    </tr>\n",
       "    <tr>\n",
       "      <th>2018-10</th>\n",
       "      <td>1.0</td>\n",
       "      <td>0.072354</td>\n",
       "    </tr>\n",
       "    <tr>\n",
       "      <th>2018-11</th>\n",
       "      <td>1.0</td>\n",
       "      <td>-0.025792</td>\n",
       "    </tr>\n",
       "    <tr>\n",
       "      <th>2018-12</th>\n",
       "      <td>1.0</td>\n",
       "      <td>0.014748</td>\n",
       "    </tr>\n",
       "    <tr>\n",
       "      <th>2019-01</th>\n",
       "      <td>1.0</td>\n",
       "      <td>0.153310</td>\n",
       "    </tr>\n",
       "    <tr>\n",
       "      <th>2019-02</th>\n",
       "      <td>1.0</td>\n",
       "      <td>-0.128474</td>\n",
       "    </tr>\n",
       "    <tr>\n",
       "      <th>2019-03</th>\n",
       "      <td>1.0</td>\n",
       "      <td>-0.007611</td>\n",
       "    </tr>\n",
       "    <tr>\n",
       "      <th>2019-04</th>\n",
       "      <td>1.0</td>\n",
       "      <td>0.030857</td>\n",
       "    </tr>\n",
       "    <tr>\n",
       "      <th>2019-05</th>\n",
       "      <td>1.0</td>\n",
       "      <td>-0.586662</td>\n",
       "    </tr>\n",
       "  </tbody>\n",
       "</table>\n",
       "</div>"
      ],
      "text/plain": [
       "         const     NIFTY\n",
       "Date                    \n",
       "2017-06    1.0  0.000000\n",
       "2017-07    1.0  0.025311\n",
       "2017-08    1.0  0.005184\n",
       "2017-09    1.0  0.007750\n",
       "2017-10    1.0 -0.032275\n",
       "2017-11    1.0  0.120189\n",
       "2017-12    1.0 -0.091129\n",
       "2018-01    1.0  0.147837\n",
       "2018-02    1.0 -0.155451\n",
       "2018-03    1.0 -0.028528\n",
       "2018-04    1.0  0.131220\n",
       "2018-05    1.0  0.066776\n",
       "2018-06    1.0 -0.038426\n",
       "2018-07    1.0  0.071821\n",
       "2018-08    1.0 -0.001399\n",
       "2018-09    1.0 -0.157869\n",
       "2018-10    1.0  0.072354\n",
       "2018-11    1.0 -0.025792\n",
       "2018-12    1.0  0.014748\n",
       "2019-01    1.0  0.153310\n",
       "2019-02    1.0 -0.128474\n",
       "2019-03    1.0 -0.007611\n",
       "2019-04    1.0  0.030857\n",
       "2019-05    1.0 -0.586662"
      ]
     },
     "execution_count": 86,
     "metadata": {},
     "output_type": "execute_result"
    }
   ],
   "source": [
    "#OLS model\n",
    "x=month['NIFTY']\n",
    "y=month['INFY']\n",
    "x1 = sm.add_constant(x)\n",
    "x1['NIFTY'][0]=0\n",
    "x1"
   ]
  },
  {
   "cell_type": "code",
   "execution_count": 87,
   "metadata": {},
   "outputs": [
    {
     "data": {
      "text/plain": [
       "<statsmodels.regression.linear_model.RegressionResultsWrapper at 0x214a4091fd0>"
      ]
     },
     "execution_count": 87,
     "metadata": {},
     "output_type": "execute_result"
    }
   ],
   "source": [
    "model = sm.OLS(y, x1)\n",
    "results = model.fit()\n",
    "results"
   ]
  },
  {
   "cell_type": "code",
   "execution_count": 88,
   "metadata": {},
   "outputs": [
    {
     "name": "stdout",
     "output_type": "stream",
     "text": [
      "                 Results: Ordinary least squares\n",
      "=================================================================\n",
      "Model:              OLS              Adj. R-squared:     0.544   \n",
      "Dependent Variable: INFY             AIC:                -20.7508\n",
      "Date:               2020-05-28 23:52 BIC:                -18.3947\n",
      "No. Observations:   24               Log-Likelihood:     12.375  \n",
      "Df Model:           1                F-statistic:        28.41   \n",
      "Df Residuals:       22               Prob (F-statistic): 2.38e-05\n",
      "R-squared:          0.564            Scale:              0.022774\n",
      "--------------------------------------------------------------------\n",
      "         Coef.     Std.Err.      t       P>|t|      [0.025    0.975]\n",
      "--------------------------------------------------------------------\n",
      "const    0.0172      0.0310    0.5545    0.5848    -0.0471    0.0815\n",
      "NIFTY    1.1273      0.2115    5.3297    0.0000     0.6887    1.5660\n",
      "-----------------------------------------------------------------\n",
      "Omnibus:              27.879       Durbin-Watson:          1.265 \n",
      "Prob(Omnibus):        0.000        Jarque-Bera (JB):       86.846\n",
      "Skew:                 1.794        Prob(JB):               0.000 \n",
      "Kurtosis:             11.600       Condition No.:          7     \n",
      "=================================================================\n",
      "\n"
     ]
    }
   ],
   "source": [
    "print(results.summary2())"
   ]
  },
  {
   "cell_type": "code",
   "execution_count": 89,
   "metadata": {},
   "outputs": [
    {
     "name": "stdout",
     "output_type": "stream",
     "text": [
      "Beta 1.1273237612832627\n"
     ]
    }
   ],
   "source": [
    "print('Beta',results.params[1])"
   ]
  },
  {
   "cell_type": "markdown",
   "metadata": {},
   "source": [
    "# Results\n",
    "## Beta Values:\n",
    "**Daily**: *0.46502172434966904*  \n",
    "**Monthly**: *1.1273237612832634*"
   ]
  },
  {
   "cell_type": "markdown",
   "metadata": {},
   "source": [
    "A beta greater than 1.0 suggests that the stock is more volatile than the broader market, and a beta less than 1.0 indicates a stock with lower volatility."
   ]
  }
 ],
 "metadata": {
  "kernelspec": {
   "display_name": "Python 3",
   "language": "python",
   "name": "python3"
  },
  "language_info": {
   "codemirror_mode": {
    "name": "ipython",
    "version": 3
   },
   "file_extension": ".py",
   "mimetype": "text/x-python",
   "name": "python",
   "nbconvert_exporter": "python",
   "pygments_lexer": "ipython3",
   "version": "3.6.10"
  }
 },
 "nbformat": 4,
 "nbformat_minor": 4
}
